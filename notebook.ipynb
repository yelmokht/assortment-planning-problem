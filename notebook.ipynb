{
 "cells": [
  {
   "cell_type": "markdown",
   "metadata": {},
   "source": [
    "# INFO-F-424 - Combinatorial optimization - 2023-2024"
   ]
  },
  {
   "cell_type": "markdown",
   "metadata": {},
   "source": [
    "### Arfani Salah-Eddine - salah-eddine.arfani@ulb.be - 000495528\n",
    "\n",
    "### El Mokhtari Younes - younes.el.mokhtari@ulb.be - 000479836\n",
    "\n",
    "### Jeq Ismail - ismail.jeq@ulb.be - 000494718"
   ]
  },
  {
   "cell_type": "markdown",
   "metadata": {},
   "source": [
    "## Assortment Planning Problem (AP)"
   ]
  },
  {
   "cell_type": "markdown",
   "metadata": {},
   "source": [
    "### 0. Introduction"
   ]
  },
  {
   "cell_type": "markdown",
   "metadata": {},
   "source": [
    "In this project, we focus on the Assortment Planning Problem (AP), where a retailer wants to determine which products it has to propose to its customers in order to maximize its expected revenue. More precisely, consider a set of products $\\mathcal{I}=\\{1, \\ldots, n\\}$ that the retailer can propose to its customers, and selling product $i$ generates a net revenue of $r_{i}>0$ for him. We assume that the products are sorted in decreasing order of revenue, i.e. $r_{1}>r_{2}>\\cdots>r_{n}>0$, and that each product $i$ will be purchased according to a particular probability that depends on:\n",
    "\n",
    "- The mean utilities $\\left(\\mu_{j}\\right)_{j \\in \\mathcal{I}}$ for the customers when they buy product $j \\in \\mathcal{I}$,\n",
    "\n",
    "- The set of alternatives $\\mathcal{S}$ made available to the customers.\n",
    "\n",
    "These probabilities come from a discrete choice model called multinomial logit, and can be written as follows:\n",
    "\n",
    "$$\n",
    "P_{i}(\\mathcal{S})=\\frac{e^{\\mu_{i}}}{e^{\\mu_{0}}+\\sum_{j \\in \\mathcal{S}} e^{\\mu_{j}}}=\\frac{e^{\\mu_{i}}}{1+\\sum_{j \\in \\mathcal{S}} e^{\\mu_{j}}}, \\quad \\forall i \\in \\mathcal{I} \\cup\\{0\\}\n",
    "$$\n",
    "\n",
    "where $\\mu_{0}=0$ represents the utility - for the customers - of buying nothing. As we will see later on, it is convenient to assume that selling nothing does come with a revenue $r_{0} \\geqslant 0$ (that is, however, usually zero). With all of the above, the problem can be posed as the following combinatorial optimization problem:\n",
    "\n",
    "$$\n",
    "\\text { (AP) } \\max _{\\mathcal{S} \\subseteq \\mathcal{I}}\\left\\{r_{0} \\cdot P_{0}(\\mathcal{S})+\\sum_{i \\in \\mathcal{S}} r_{i} \\cdot P_{i}(\\mathcal{S})\\right\\}\n",
    "$$"
   ]
  },
  {
   "cell_type": "markdown",
   "metadata": {},
   "source": [
    "### 1. From combinatorial optimization to linear programming"
   ]
  },
  {
   "cell_type": "markdown",
   "metadata": {
    "jp-MarkdownHeadingCollapsed": true
   },
   "source": [
    "#### 1.1 Show that AP can be rewritten as the following integer programming problem:\n",
    "\n",
    "$$\n",
    "\\text { (AP-IP) } \\max _{x \\in\\{0,1\\}^{n}} \\frac{r_{0}+\\sum_{i=1}^{n} x_{i} r_{i} e^{\\mu_{i}}}{1+\\sum_{i=1}^{n} x_{i} e^{\\mu_{i}}}\n",
    "$$\n",
    "\n",
    "#### Explain why this formulation is valid for the Assortment Planning Problem (variables, constraints, objective function), and why this formulation is nonlinear."
   ]
  },
  {
   "cell_type": "markdown",
   "metadata": {},
   "source": [
    "We can convert (AP) into an integer programming problem (AP-IP) by introducing binary decision variables $x_i$, where $x_i = 1$ if product $i$ is included in the assortment $\\mathcal{S}$, and $x_i = 0$ otherwise. We can rewrite the probabilities and revenues using $x_i$. For the no-purchase option, we have:\n",
    "\n",
    "$$\n",
    "P_0(\\mathcal{S}) = \\frac{1}{1 + \\sum_{i=1}^n x_i e^{\\mu_i}}\n",
    "$$\n",
    "\n",
    "For purchasing product $i$, we have:\n",
    "\n",
    "$$\n",
    "P_i(\\mathcal{S}) = \\frac{x_i e^{\\mu_i}}{1 + \\sum_{i=1}^n x_i e^{\\mu_i}}\n",
    "$$\n",
    "\n",
    "If we take the objective function of AP:\n",
    "\n",
    "$$\n",
    "r_0 \\cdot P_0(\\mathcal{S}) + \\sum_{i \\in \\mathcal{S}} r_i \\cdot P_i(\\mathcal{S})\n",
    "$$\n",
    "\n",
    "By replacing, we obtain:\n",
    "\n",
    "$$\n",
    "\\frac{r_0 + \\sum_{i=1}^n x_i r_i e^{\\mu_i}}{1 + \\sum_{i=1}^n x_i e^{\\mu_i}}\n",
    "$$\n",
    "\n",
    "This forms the objective function of (AP-IP):\n",
    "\n",
    "$$\n",
    "\\text { (AP-IP) } \\max _{x \\in\\{0,1\\}^{n}} \\frac{r_{0}+\\sum_{i=1}^{n} x_{i} r_{i} e^{\\mu_{i}}}{1+\\sum_{i=1}^{n} x_{i} e^{\\mu_{i}}}\n",
    "$$\n",
    "\n",
    "This formulation is valid because the binary decision variables $x_i$ indicate whether each product is included in the assortment, the constraints ensure these variables remain binary and the objective function maximizes the revenue based on the probability and the selected products. Since the denominator of the objective function is a polynomial, the formulation is nonlinear."
   ]
  },
  {
   "cell_type": "markdown",
   "metadata": {
    "jp-MarkdownHeadingCollapsed": true
   },
   "source": [
    "#### 1.2 Considering the following change of variables:\n",
    "\n",
    "\n",
    "$$\n",
    "\\begin{aligned}\n",
    "y_{0} & :=\\frac{1}{1+\\sum_{j=1}^{n} x_{j} e^{\\mu_{j}}} \\\\\n",
    "y_{i} & :=\\frac{x_{i} e^{\\mu_{i}}}{1+\\sum_{j=1}^{n} x_{j} e^{\\mu_{j}}}, \\quad \\forall i \\in \\mathcal{I}\n",
    "\\end{aligned}\n",
    "$$\n",
    "\n",
    "#### prove that AP-IP can be rewritten as the following problem:\n",
    "\n",
    "$$\n",
    "\\begin{aligned}\n",
    "\\text { (AP-IPL) } \\max _{y, y_{0} \\geqslant 0} & r_{0} y_{0}+\\sum_{i=1}^{n} r_{i} y_{i} \\\\\n",
    "\\text { s.t. } & y_{0}+\\sum_{i=1}^{n} y_{i}=1 \\\\\n",
    "& y_{i} \\in\\left\\{0, y_{0} e^{\\mu_{i}}\\right\\},\n",
    "\\end{aligned} \\quad \\forall i \\in \\mathcal{I}\n",
    "$$\n",
    "\n",
    "#### where $y_{i} \\in\\left\\{0, y_{0} e^{\\mu_{i}}\\right\\}$ means that $y_{i}$ must take either 0 or $y_{0} e^{\\mu_{i}}$ as a value."
   ]
  },
  {
   "cell_type": "markdown",
   "metadata": {},
   "source": [
    "Let's decompose the objective function of (AP-IP), we have:\n",
    "\n",
    "$$\n",
    "\\frac{r_0}{1 + \\sum_{j=1}^n x_j e^{\\mu_j}} + \\frac{\\sum_{j=1}^n x_j r_i e^{\\mu_j}}{1 + \\sum_{j=1}^n x_j e^{\\mu_j}}\n",
    "$$\n",
    "\n",
    "Using the change of variables, we immediately obtain the objective function of (AP-IPL):\n",
    "\n",
    "$$\n",
    "\\quad r_{0} y_{0} + \\sum_{i=1}^{n} r_{i} y_{i}\n",
    "$$\n",
    "\n",
    "Let's find the constraints now. Using the change of variables, we have:\n",
    "$$\n",
    "y_0 + \\sum_{i=1}^n y_i = \\frac{1}{1+\\sum_{j=1}^{n} x_{j} e^{\\mu_{j}}} + \\sum_{i=1}^{n} \\frac{x_{i} e^{\\mu_{i}}}{1+\\sum_{j=1}^{n} x_{j} e^{\\mu_{j}}} = \\frac{1 + \\sum_{i=1}^{n} x_{i} e^{\\mu_{i}}}{1 + \\sum_{j=1}^{n} x_{j} e^{\\mu_{j}}} = 1\n",
    "$$\n",
    "\n",
    "This gives us the first constraint:\n",
    "$$\n",
    "y_0 + \\sum_{i=1}^n y_i = 1\n",
    "$$\n",
    "\n",
    "Next, we consider the values $y_i$ can take. From the definition:\n",
    "$$\n",
    "y_i = \\frac{x_i e^{\\mu_i}}{1+\\sum_{j=1}^n x_j e^{\\mu_j}}\n",
    "$$\n",
    "\n",
    "When $x_i = 0$, we have:\n",
    "$$\n",
    "y_i = 0\n",
    "$$\n",
    "\n",
    "When $x_i = 1$, we have:\n",
    "$$\n",
    "y_i = \\frac{e^{\\mu_i}}{1+\\sum_{j=1}^n x_j e^{\\mu_j}} = y_0 e^{\\mu_i}\n",
    "$$\n",
    "\n",
    "This implies:\n",
    "$$\n",
    "y_i \\in \\{0, y_0 e^{\\mu_i}\\}, \\quad \\forall i \\in \\mathcal{I}\n",
    "$$\n",
    "\n",
    "Finally, the AP-IP problem can be rewritten as AP-IPL:\n",
    "$$\n",
    "\\begin{aligned}\n",
    "\\text { (AP-IPL) } \\max _{y, y_{0} \\geqslant 0} & r_{0} y_{0}+\\sum_{i=1}^{n} r_{i} y_{i} \\\\\n",
    "\\text { s.t. } & y_{0}+\\sum_{i=1}^{n} y_{i}=1 \\\\\n",
    "& y_{i} \\in\\left\\{0, y_{0} e^{\\mu_{i}}\\right\\}, \\quad \\forall i \\in \\mathcal{I}\n",
    "\\end{aligned}\n",
    "$$"
   ]
  },
  {
   "cell_type": "markdown",
   "metadata": {
    "jp-MarkdownHeadingCollapsed": true
   },
   "source": [
    "#### 1.3 Consider the continuous relaxation of AP-IPL:\n",
    "\n",
    "$$\n",
    "\\begin{array}{rlr}\n",
    "\\text{(AP-L)} \\quad \\max_{y, y_{0} \\geqslant 0} & r_{0} y_{0} + \\sum_{i=1}^{n} r_{i} y_{i} & \\\\\n",
    "\\text{s.t.} & y_{0} + \\sum_{i=1}^{n} y_{i} = 1 & \\\\\n",
    "& y_{i} \\leqslant y_{0} e^{\\mu_{i}} & \\forall i \\in \\mathcal{I}\n",
    "\\end{array}\n",
    "$$\n",
    "\n",
    "#### Prove that its linear programming dual is:\n",
    "\n",
    "$$\n",
    "\\begin{array}{rl}\n",
    "\\text{(AP-LD)} \\quad \\min_{\\pi \\geqslant 0, \\pi_{0} \\in \\mathbb{R}} & \\pi_{0} \\\\\n",
    "\\text{s.t.} & \\pi_{0} - \\sum_{i=1}^{n} \\pi_{i} e^{\\mu_{i}} \\geqslant r_{0} \\\\\n",
    "& \\pi_{0} + \\pi_{i} \\geqslant r_{i} \\quad \\forall i \\in \\mathcal{I}\n",
    "\\end{array}\n",
    "$$\n",
    "\n",
    "#### and explain the relationships between dual (resp. primal) variables and primal (resp. dual) constraints.\n"
   ]
  },
  {
   "cell_type": "markdown",
   "metadata": {},
   "source": [
    "We will use the duality theorem to find (AP-LD). Let's reformulate the primal first, we have:\n",
    "\n",
    "$$\n",
    "\\begin{array}{rlr}\n",
    "\\max_{y, y_{0} \\geqslant 0} & r_{0} y_{0} + \\sum_{i=1}^{n} r_{i} y_{i} & \\\\\n",
    "\\text{s.t.} & y_{0} + \\sum_{i=1}^{n} y_{i} = 1 & \\\\\n",
    "& - y_{0} e^{\\mu_{i}} + y_{i} \\leqslant 0 & \\forall i \\in \\mathcal{I}\n",
    "\\end{array}\n",
    "$$\n",
    "\n",
    "To formulate the dual problem, we associate dual variables with each constraint of the primal problem. Let's denote the dual variables as follows:\n",
    "\n",
    "- $\\pi_0$ for the first constraint $y_0 + \\sum_{i=1}^n y_i = 1$.\n",
    "- $\\pi_i$ for the second constraint $- y_{0} e^{\\mu_{i}} + y_{i} \\leqslant 0 $.\n",
    "\n",
    "The dual objective function is derived from the constant term in the constraints multiplied by the dual variables. So, we obtain:\n",
    "\n",
    "$$\n",
    "\\min_{\\pi_0, \\pi_i} \\quad \\pi_0\n",
    "$$\n",
    "\n",
    "\n",
    "The dual constraints can be derived from the coefficients of the primal constraints and the primal objective function, we have:\n",
    "\n",
    "$$\n",
    "\\begin{array}{rl}\n",
    "\\pi_0 - \\sum_{i=1}^{n} \\pi_i e^{\\mu_i} \\geq r_0 \\\\\n",
    "\\pi_0 + \\pi_i \\geq r_i\n",
    "\\end{array} \\quad \\forall i \\in \\mathcal{I}\n",
    "$$\n",
    "\n",
    "Thus, the dual problem (AP-LD) is:\n",
    "\n",
    "$$\n",
    "\\begin{array}{rl}\n",
    "\\min_{\\pi \\geqslant 0, \\pi_{0} \\in \\mathbb{R}} & \\pi_{0} \\\\\n",
    "\\text{s.t.} & \\pi_{0} - \\sum_{i=1}^{n} \\pi_{i} e^{\\mu_{i}} \\geqslant r_{0} \\\\\n",
    "& \\pi_{0} + \\pi_{i} \\geqslant r_{i} \\quad \\forall i \\in \\mathcal{I}\n",
    "\\end{array}\n",
    "$$\n",
    "\n",
    "\n",
    "In the primal, we had:\n",
    "\n",
    "- $y_0$ which represents the probability of a customer cof buying nothing given the set of products in the assortment.\n",
    "- $y_i$ which represents the probability of a customer of buying product $i$ given the set of products in the assortment.\n",
    "\n",
    "Now in the dual, we have:\n",
    "\n",
    "- $\\pi_0$ which is associated with the first primal constraint $y_0 + \\sum_{i=1}^n y_i = 1$. It measures the importance of ensuring that the total probability of all choices adds up to 100%. \n",
    "\n",
    "- $\\pi_i$ which is associated with the second primal constraint $- y_0 e^{\\mu_i} + y_i \\leq 0$ for each product $i \\in \\mathcal{I}$. It measures the importance of ensuring that the probability of choosing product $i$ fits within its attractiveness limit."
   ]
  },
  {
   "cell_type": "markdown",
   "metadata": {},
   "source": [
    "### 2. Ideal formulation and a greedy algorithm"
   ]
  },
  {
   "cell_type": "markdown",
   "metadata": {},
   "source": [
    "We now show that, with the help of AP-L, we can solve AP in polynomial time."
   ]
  },
  {
   "cell_type": "markdown",
   "metadata": {},
   "source": [
    "#### 2.1 For any $k \\in \\mathcal{I}$, consider the following solution:\n",
    "\n",
    "\n",
    "$$\n",
    "\\begin{aligned}\n",
    "y_{0}^{k} & :=\\frac{1}{1+\\sum_{j=1}^{k} e^{\\mu_{j}}} \\\\\n",
    "y_{i}^{k} & :=\\left\\{\\begin{array}{ll}\n",
    "\\frac{e^{\\mu_{i}}}{1+\\sum_{j=1}^{k} e^{\\mu_{j}}} & \\text { if } i \\leqslant k \\\\\n",
    "0 & \\text { otherwise. }\n",
    "\\end{array} \\quad \\forall i \\in \\mathcal{I} .\\right.\n",
    "\\end{aligned}\n",
    "$$"
   ]
  },
  {
   "cell_type": "markdown",
   "metadata": {
    "jp-MarkdownHeadingCollapsed": true
   },
   "source": [
    "##### 2.1.1 Show that $\\left(y^{k}, y_{0}^{k}\\right)$ is feasible for AP-L. What is its objective value?"
   ]
  },
  {
   "cell_type": "markdown",
   "metadata": {},
   "source": [
    "To show that $\\left(y^{k}, y_{0}^{k}\\right)$ is feasible for AP-L, we need to check that it satisfies the constraints of AP-L. For the constraint 1, we have:\n",
    "\n",
    "$$\n",
    "y_{0}^{k} + \\sum_{i=1}^{k} y_{i}^{k} = \\frac{1}{1+\\sum_{j=1}^{k} e^{\\mu_{j}}} + \\frac{\\sum_{i=1}^{k} e^{\\mu_{i}}}{1+\\sum_{j=1}^{k} e^{\\mu_{j}}} = \\frac{1 + \\sum_{i=1}^{k} e^{\\mu_{i}}}{1+\\sum_{j=1}^{k} e^{\\mu_{j}}} = 1\n",
    "$$\n",
    "\n",
    "Therefore, the first constraint is satisfied. For the second constraint, we have:\n",
    "\n",
    "For $ i \\leqslant k $:\n",
    "\n",
    "$$\n",
    "y_{i}^{k} = \\frac{e^{\\mu_{i}}}{1+\\sum_{j=1}^{k} e^{\\mu_{j}}} \\quad \\text{and} \\quad y_{0}^{k} e^{\\mu_{i}} = \\frac{e^{\\mu_{i}}}{1+\\sum_{j=1}^{k} e^{\\mu_{j}}}\n",
    "$$\n",
    "\n",
    "So,\n",
    "\n",
    "$$\n",
    "y_{i}^{k} = y_{0}^{k} e^{\\mu_{i}}\n",
    "$$\n",
    "\n",
    "For $ i > k $:\n",
    "\n",
    "$$\n",
    "y_{i}^{k} = 0 \\quad \\text{and} \\quad y_{0}^{k} e^{\\mu_{i}} = \\frac{e^{\\mu_{i}}}{1+\\sum_{j=1}^{k} e^{\\mu_{j}}} > 0\n",
    "$$\n",
    "\n",
    "Thus,\n",
    "\n",
    "$$\n",
    "y_{i}^{k} \\leqslant y_{0}^{k} e^{\\mu_{i}}\n",
    "$$\n",
    "\n",
    "Therefore, the second constraint is satisfied.\n",
    "\n",
    "Since both constraints are satisfied, $\\left(y^{k}, y_{0}^{k}\\right)$ is feasible for AP-L. Let's compute now the objective value for $\\left(y^{k}, y_{0}^{k}\\right)$:\n",
    "\n",
    "$$\n",
    "r_{0} y_{0}^{k} + \\sum_{i=1}^{n} r_{i} y_{i}^{k}\n",
    "$$\n",
    "\n",
    "We develop $y_0$ and $y_{0}^{k}$:\n",
    "\n",
    "$$\n",
    "\\frac{r_{0}}{1+\\sum_{j=1}^{k} e^{\\mu_{j}}} + \\sum_{i=1}^{k} \\frac{r_{i} e^{\\mu_{i}}}{1+\\sum_{j=1}^{k} e^{\\mu_{j}}}\n",
    "$$\n",
    "\n",
    "After factoring, the objective value is:\n",
    "\n",
    "$$\n",
    "\\frac{r_{0} + \\sum_{i=1}^{k} r_{i} e^{\\mu_{i}}}{1+\\sum_{j=1}^{k} e^{\\mu_{j}}}\n",
    "$$"
   ]
  },
  {
   "cell_type": "markdown",
   "metadata": {
    "jp-MarkdownHeadingCollapsed": true
   },
   "source": [
    "##### 2.1.2 Using the change of variables in (1.2), prove that the associated $x^{k}$ is integer."
   ]
  },
  {
   "cell_type": "markdown",
   "metadata": {},
   "source": [
    "To prove that the associated $x^{k}$ is integer, we use the change of variables defined in (1.2):\n",
    "\n",
    "$$\n",
    "\\begin{aligned}\n",
    "y_{0} & := \\frac{1}{1+\\sum_{j=1}^{n} x_{j} e^{\\mu_{j}}} \\\\\n",
    "y_{i} & := \\frac{x_{i} e^{\\mu_{i}}}{1+\\sum_{j=1}^{n} x_{j} e^{\\mu_{j}}}, \\quad \\forall i \\in \\mathcal{I}\n",
    "\\end{aligned}\n",
    "$$\n",
    "\n",
    "Given:\n",
    "\n",
    "$$\n",
    "y_{0}^{k} = \\frac{1}{1+\\sum_{j=1}^{k} e^{\\mu_{j}}}\n",
    "$$\n",
    "\n",
    "and\n",
    "\n",
    "$$\n",
    "y_{i}^{k} = \\left\\{\n",
    "\\begin{array}{ll}\n",
    "\\frac{e^{\\mu_{i}}}{1+\\sum_{j=1}^{k} e^{\\mu_{j}}} & \\text{if } i \\leqslant k \\\\\n",
    "0 & \\text{otherwise.}\n",
    "\\end{array} \\right.\n",
    "$$\n",
    "\n",
    "We want to show that the associated $x^{k}$ is integer. From the change of variables, we have:\n",
    "\n",
    "$$\n",
    "x_{i} = \\frac{y_{i} (1+\\sum_{j=1}^{n} x_{j} e^{\\mu_{j}})}{e^{\\mu_{i}}}\n",
    "$$\n",
    "\n",
    "For $i \\leq k$:\n",
    "\n",
    "$$\n",
    "x_{i}^{k} = \\frac{y_{i}^{k} (1+\\sum_{j=1}^{k} e^{\\mu_{j}})}{e^{\\mu_{i}}}\n",
    "    = \\frac{\\frac{e^{\\mu_{i}}}{1+\\sum_{j=1}^{k} e^{\\mu_{j}}} (1+\\sum_{j=1}^{k} e^{\\mu_{j}})}{e^{\\mu_{i}}} \n",
    "    = \\frac{e^{\\mu_{i}}}{1+\\sum_{j=1}^{k} e^{\\mu_{j}}} \\cdot \\frac{1+\\sum_{j=1}^{k} e^{\\mu_{j}}}{e^{\\mu_{i}}}\n",
    "    = \\frac{e^{\\mu_{i}}}{e^{\\mu_{i}}}\n",
    "    = 1\n",
    "$$\n",
    "\n",
    "For $i > k$:\n",
    "\n",
    "$$\n",
    "y_{i}^{k} = 0 \\implies x_{i}^{k} = \\frac{0 \\cdot (1+\\sum_{j=1}^{k} e^{\\mu_{j}})}{e^{\\mu_{i}}} = 0\n",
    "$$\n",
    "\n",
    "Therefore, the associated $x^{k}$ is integer, where:\n",
    "\n",
    "$$\n",
    "x_{i}^{k} = \\left\\{\n",
    "\\begin{array}{ll}\n",
    "1 & \\text{if } i \\leq k \\\\\n",
    "0 & \\text{if } i > k\n",
    "\\end{array} \\right.\n",
    "$$\n"
   ]
  },
  {
   "cell_type": "markdown",
   "metadata": {
    "jp-MarkdownHeadingCollapsed": true
   },
   "source": [
    "##### 2.1.3 Show that $\\left(y^{k}, y_{0}^{k}\\right)$ is a strictly better solution than $\\left(y^{k-1}, y_{0}^{k-1}\\right)$ if and only if:\n",
    "\n",
    "$$\n",
    "r_{k}>\\frac{r_{0}+\\sum_{j=1}^{k-1} e^{\\mu_{j}} r_{j}}{1+\\sum_{j=1}^{k-1} e^{\\mu_{j}}}\n",
    "$$"
   ]
  },
  {
   "cell_type": "markdown",
   "metadata": {},
   "source": [
    "To show this, we need to compare the objective values of $\\left(y^{k}, y_{0}^{k}\\right)$ and $\\left(y^{k-1}, y_{0}^{k-1}\\right)$.\n",
    "\n",
    "The objective value for $\\left(y^{k}, y_{0}^{k}\\right)$ is:\n",
    "\n",
    "$$\n",
    "\\frac{r_{0} + \\sum_{i=1}^{k} e^{\\mu_{i}} r_{i}}{1 + \\sum_{j=1}^{k} e^{\\mu_{j}}}\n",
    "$$\n",
    "\n",
    "The objective value for $\\left(y^{k-1}, y_{0}^{k-1}\\right)$ is:\n",
    "\n",
    "$$\n",
    "\\frac{r_{0} + \\sum_{i=1}^{k-1} e^{\\mu_{i}} r_{i}}{1 + \\sum_{j=1}^{k-1} e^{\\mu_{j}}}\n",
    "$$\n",
    "\n",
    "We need to show that:\n",
    "\n",
    "$$\n",
    "\\frac{r_{0} + \\sum_{i=1}^{k} e^{\\mu_{i}} r_{i}}{1 + \\sum_{j=1}^{k} e^{\\mu_{j}}} > \\frac{r_{0} + \\sum_{i=1}^{k-1} e^{\\mu_{i}} r_{i}}{1 + \\sum_{j=1}^{k-1} e^{\\mu_{j}}}\n",
    "$$\n",
    "\n",
    "We can cross-multiply to compare the numerators directly:\n",
    "\n",
    "$$\n",
    "(r_{0} + \\sum_{i=1}^{k} e^{\\mu_{i}} r_{i})(1 + \\sum_{j=1}^{k-1} e^{\\mu_{j}}) > (r_{0} + \\sum_{i=1}^{k-1} e^{\\mu_{i}} r_{i})(1 + \\sum_{j=1}^{k} e^{\\mu_{j}})\n",
    "$$\n",
    "\n",
    "$$\n",
    "\\iff\n",
    "$$\n",
    "\n",
    "$$\n",
    "r_{0} + r_{0} \\sum_{j=1}^{k-1} e^{\\mu_{j}} + \\sum_{i=1}^{k} e^{\\mu_{i}} r_{i} + \\sum_{i=1}^{k} e^{\\mu_{i}} r_{i} \\sum_{j=1}^{k-1} e^{\\mu_{j}} > r_{0} + r_{0} \\sum_{j=1}^{k} e^{\\mu_{j}} + \\sum_{i=1}^{k-1} e^{\\mu_{i}} r_{i} + \\sum_{i=1}^{k-1} e^{\\mu_{i}} r_{i} \\sum_{j=1}^{k} e^{\\mu_{j}}\n",
    "$$\n",
    "\n",
    "We cancel out the common terms:\n",
    "\n",
    "$$\n",
    "r_{0} \\sum_{j=1}^{k-1} e^{\\mu_{j}} + \\sum_{i=1}^{k} e^{\\mu_{i}} r_{i} + \\sum_{i=1}^{k} e^{\\mu_{i}} r_{i} \\sum_{j=1}^{k-1} e^{\\mu_{j}} > r_{0} \\sum_{j=1}^{k} e^{\\mu_{j}} + \\sum_{i=1}^{k-1} e^{\\mu_{i}} r_{i} + \\sum_{i=1}^{k-1} e^{\\mu_{i}} r_{i} \\sum_{j=1}^{k} e^{\\mu_{j}}\n",
    "$$\n",
    "\n",
    "$$\n",
    "\\iff\n",
    "$$\n",
    "\n",
    "$$\n",
    "e^{\\mu_{k}} r_{k} + e^{\\mu_{k}} r_{k} \\sum_{j=1}^{k-1} e^{\\mu_{j}} > r_{0} e^{\\mu_{k}} + e^{\\mu_{k}} \\sum_{i=1}^{k-1} e^{\\mu_{j} r_{i}}\n",
    "$$\n",
    "\n",
    "$$\n",
    "\\iff\n",
    "$$\n",
    "\n",
    "$$\n",
    "r_{k} + r_{k} \\sum_{j=1}^{k-1} e^{\\mu_{j}} > r_{0} + \\sum_{i=1}^{k-1} e^{\\mu_{j} r_{i}}\n",
    "$$\n",
    "\n",
    "\n",
    "We can factor out $r_{k}$:\n",
    "\n",
    "$$\n",
    "r_{k} (1 + \\sum_{j=1}^{k-1} e^{\\mu_{j}}) > r_{0} + \\sum_{i=1}^{k-1} e^{\\mu_{i}} r_{i}\n",
    "$$\n",
    "\n",
    "We divide both sides by $1 + \\sum_{j=1}^{k-1} e^{\\mu_{j}}$:\n",
    "\n",
    "$$\n",
    "r_{k} > \\frac{r_{0} + \\sum_{i=1}^{k-1} e^{\\mu_{i}} r_{i}}{1 + \\sum_{j=1}^{k-1} e^{\\mu_{j}}}\n",
    "$$\n",
    "\n",
    "Thus, $\\left(y^{k}, y_{0}^{k}\\right)$ is a strictly better solution than $\\left(y^{k-1}, y_{0}^{k}\\right)$ if and only if:\n",
    "\n",
    "$$\n",
    "r_{k} > \\frac{r_{0} + \\sum_{j=1}^{k-1} e^{\\mu_{j}} r_{j}}{1 + \\sum_{j=1}^{k-1} e^{\\mu_{j}}}\n",
    "$$"
   ]
  },
  {
   "cell_type": "markdown",
   "metadata": {
    "jp-MarkdownHeadingCollapsed": true
   },
   "source": [
    "##### 2.1.4 Prove that there is no $k \\in \\mathcal{I}$ such that\n",
    "\n",
    "$$\n",
    "r_{k} \\leqslant \\frac{r_{0}+\\sum_{j=1}^{k-1} e^{\\mu_{j}} r_{j}}{1+\\sum_{j=1}^{k-1} e^{\\mu_{j}}} \\quad \\text { and } \\quad r_{k+1}>\\frac{r_{0}+\\sum_{j=1}^{k} e^{\\mu_{j}} r_{j}}{1+\\sum_{j=1}^{k} e^{\\mu_{j}}}\n",
    "$$\n",
    "\n",
    "##### at the same time. What does the graph of the function $k \\rightarrow r^{\\top} y^{k}$ look like?"
   ]
  },
  {
   "cell_type": "markdown",
   "metadata": {},
   "source": [
    "To prove that both conditions cannot hold simultaneously, let's assume they do and show a contradiction.\n",
    "\n",
    "Suppose there exists a $k \\in \\mathcal{I}$ such that:\n",
    "\n",
    "1. $r_{k} \\leq \\frac{r_{0} + \\sum_{j=1}^{k-1} e^{\\mu_{j}} r_{j}}{1 + \\sum_{j=1}^{k-1} e^{\\mu_{j}}}$\n",
    "2. $r_{k+1} > \\frac{r_{0} + \\sum_{j=1}^{k} e^{\\mu_{j}} r_{j}}{1 + \\sum_{j=1}^{k} e^{\\mu_{j}}}$\n",
    "\n",
    "Let's denote these values as follows:\n",
    "\n",
    "- $A = \\frac{r_{0} + \\sum_{j=1}^{k-1} e^{\\mu_{j}} r_{j}}{1 + \\sum_{j=1}^{k-1} e^{\\mu_{j}}}$\n",
    "- $B = \\frac{r_{0} + \\sum_{j=1}^{k} e^{\\mu_{j}} r_{j}}{1 + \\sum_{j=1}^{k} e^{\\mu_{j}}}$\n",
    "\n",
    "So we have:\n",
    "\n",
    "$$\n",
    "r_{k} \\leq A \\quad \\text{and} \\quad r_{k+1} > B\n",
    "$$\n",
    "\n",
    "Let's compare $B$ and $A$. We can rewrite $B$ as:\n",
    "\n",
    "$$\n",
    "B = \\frac{r_{0} + \\sum_{j=1}^{k-1} e^{\\mu_{j}} r_{j} + e^{\\mu_{k}} r_{k}}{1 + \\sum_{j=1}^{k-1} e^{\\mu_{j}} + e^{\\mu_{k}}}\n",
    "$$\n",
    "\n",
    "By introducing $A$, we can rewrite $B$ in terms of $A$:\n",
    "\n",
    "$$\n",
    "B = \\frac{A \\cdot (1 + \\sum_{j=1}^{k-1} e^{\\mu_{j}}) + e^{\\mu_{k}} r_{k}}{1 + \\sum_{j=1}^{k-1} e^{\\mu_{j}} + e^{\\mu_{k}}}\n",
    "$$\n",
    "\n",
    "Since $r_k \\leq A$, we can replace $r_k$ with $A$ and we obtain that:\n",
    "\n",
    "$$\n",
    "B \\leq A\n",
    "$$\n",
    "\n",
    "This implies that $r_{k+1}$ cannot be greater than $B$ if $r_k \\leq A$ because it will mean that $r_{k+1} > r_k$, which is not possible based on our initial assumption of the problem.\n",
    "\n",
    "Therefore, it is impossible for both conditions to hold at the same time.\n",
    "\n",
    "The graph of the function $k \\rightarrow r^{\\top} y^{k}$ would show a non-increasing function because as more products are included in the assortment, the expected revenue for k products will tend to decrease or stay constant."
   ]
  },
  {
   "cell_type": "markdown",
   "metadata": {
    "jp-MarkdownHeadingCollapsed": true
   },
   "source": [
    "##### 2.1.5 Deduce that there is exactly one $k^{*} \\in \\mathcal{I}$ such that\n",
    "\n",
    "$$\n",
    "r_{1}>\\cdots>r_{k^{*}}>\\frac{r_{0}+\\sum_{j=1}^{k^{*}-1} e^{\\mu_{j}} r_{j}}{1+\\sum_{j=1}^{k^{*}-1} e^{\\mu_{j}}} \\quad \\text { and } \\quad \\frac{r_{0}+\\sum_{j=1}^{k^{*}} e^{\\mu_{j}} r_{j}}{1+\\sum_{j=1}^{k^{*}} e^{\\mu_{j}}} \\geqslant r_{k^{*}+1}>\\cdots>r_{n}\n",
    "$$"
   ]
  },
  {
   "cell_type": "markdown",
   "metadata": {},
   "source": [
    "From 2.1.3, we showed that $y^{k}$ is a better solution than $y^{k-1}$ if and only if\n",
    "\n",
    "$$\n",
    "r_{k} > \\frac{r_{0} + \\sum_{j=1}^{k-1} e^{\\mu_{j}} r_{j}}{1 + \\sum_{j=1}^{k-1} e^{\\mu_{j}}}\n",
    "$$\n",
    "\n",
    "From 2.1.4, we proved that there is no $k$ such that\n",
    "\n",
    "$$\n",
    "r_{k} \\leq \\frac{r_{0} + \\sum_{j=1}^{k-1} e^{\\mu_{j}} r_{j}}{1 + \\sum_{j=1}^{k-1} e^{\\mu_{j}}} \\quad \\text{and} \\quad r_{k+1} > \\frac{r_{0} + \\sum_{j=1}^{k} e^{\\mu_{j}} r_{j}}{1 + \\sum_{j=1}^{k} e^{\\mu_{j}}}\n",
    "$$\n",
    "\n",
    "Based on these results, there is exactly one $k^{*}$ such that:\n",
    "\n",
    "$$\n",
    "r_{1} > \\cdots > r_{k^{*}} > \\frac{r_{0} + \\sum_{j=1}^{k^{*}-1} e^{\\mu_{j}} r_{j}}{1 + \\sum_{j=1}^{k^{*}-1} e^{\\mu_{j}}} \\quad \\text{and} \\quad \\frac{r_{0} + \\sum_{j=1}^{k^{*}} e^{\\mu_{j}} r_{j}}{1 + \\sum_{j=1}^{k^{*}} e^{\\mu_{j}}} \\geq r_{k^{*}+1} > \\cdots > r_{n}\n",
    "$$"
   ]
  },
  {
   "cell_type": "markdown",
   "metadata": {
    "jp-MarkdownHeadingCollapsed": true
   },
   "source": [
    "##### 2.1.6 Show that we cannot have $r_{k^{*}}<\\frac{r_{0}+\\sum_{j=1}^{k^{*}} e^{\\mu_{j}} r_{j}}{1+\\sum_{j=1}^{k *} e^{\\mu_{j}}}$, and deduce that we have\n",
    "\n",
    "$$\n",
    "r_{1}>\\cdots>r_{k^{*}} \\geqslant \\frac{r_{0}+\\sum_{j=1}^{k^{*}} e^{\\mu_{j}} r_{j}}{1+\\sum_{j=1}^{k^{*}} e^{\\mu_{j}}} \\geqslant r_{k^{*}+1}>\\cdots>r_{n}\n",
    "$$"
   ]
  },
  {
   "cell_type": "markdown",
   "metadata": {},
   "source": [
    "From 2.1.5, we have:\n",
    "\n",
    "$$\n",
    "r_{1} > \\cdots > r_{k^{*}} > \\frac{r_{0} + \\sum_{j=1}^{k^{*}-1} e^{\\mu_{j}} r_{j}}{1 + \\sum_{j=1}^{k^{*}-1} e^{\\mu_{j}}}\n",
    "$$\n",
    "\n",
    "If $ r_{k^{*}} < \\frac{r_{0} + \\sum_{j=1}^{k^{*}} e^{\\mu_{j}} r_{j}}{1 + \\sum_{j=1}^{k^{*}} e^{\\mu_{j}}} $, it would contradict our assumption since including product $ k^{*} $ should not diminish the value.\n",
    "\n",
    "Therefore, we must have:\n",
    "\n",
    "$$\n",
    "r_{k^{*}} \\geq \\frac{r_{0} + \\sum_{j=1}^{k^{*}} e^{\\mu_{j}} r_{j}}{1 + \\sum_{j=1}^{k^{*}} e^{\\mu_{j}}}\n",
    "$$\n",
    "\n",
    "Hence, we deduce:\n",
    "\n",
    "$$\n",
    "r_{1} > \\cdots > r_{k^{*}} \\geq \\frac{r_{0} + \\sum_{j=1}^{k^{*}} e^{\\mu_{j}} r_{j}}{1 + \\sum_{j=1}^{k^{*}} e^{\\mu_{j}}} \\geq r_{k^{*}+1} > \\cdots > r_{n}\n",
    "$$\n"
   ]
  },
  {
   "cell_type": "markdown",
   "metadata": {},
   "source": [
    "#### 2.2 For any $k \\in \\mathcal{I}$, consider the following solution:\n",
    "\n",
    "$$\n",
    "\\begin{aligned}\n",
    "\\pi_{0}^{k} & :=\\frac{r_{0}+\\sum_{j=1}^{k} e^{\\mu_{j}} r_{j}}{1+\\sum_{j=1}^{k} e^{\\mu_{j}}} \\\\\n",
    "\\pi_{i}^{k} & :=\\left\\{\\begin{array}{ll}\n",
    "r_{i}-\\frac{r_{0}+\\sum_{j=1}^{k} e^{\\mu_{j}} r_{j}}{1+\\sum_{j=1}^{k} e^{\\mu_{j}}} & \\text { if } i \\leqslant k \\\\\n",
    "0 & \\text { otherwise. }\n",
    "\\end{array}, \\quad \\forall i \\in \\mathcal{I} .\\right.\n",
    "\\end{aligned}\n",
    "$$"
   ]
  },
  {
   "cell_type": "markdown",
   "metadata": {
    "jp-MarkdownHeadingCollapsed": true
   },
   "source": [
    "##### 2.2.1 What is its objective value? In which conditions is $\\left(\\pi^{k}, \\pi_{0}^{k}\\right)$ feasible for AP-LD? Is there such a $k$ ?"
   ]
  },
  {
   "cell_type": "markdown",
   "metadata": {},
   "source": [
    "The objective value of the dual problem (AP-LD) is $\\pi_{0}$. Thus, for this solution, the objective value is:\n",
    "\n",
    "$$\n",
    "\\pi_{0}^{k} = \\frac{r_{0} + \\sum_{j=1}^{k} e^{\\mu_{j}} r_{j}}{1 + \\sum_{j=1}^{k} e^{\\mu_{j}}}\n",
    "$$\n",
    "\n",
    "\n",
    "To determine in which conditions $\\left(\\pi^{k}, \\pi_{0}^{k}\\right)$ is feasible for AP-LD, we need to check the constraints:\n",
    "\n",
    "1. $\\pi_{0} - \\sum_{i=1}^{n} \\pi_{i} e^{\\mu_{i}} \\geq r_{0}$\n",
    "2. $\\pi_{0} + \\pi_{i} \\geq r_{i} \\quad \\forall i \\in \\mathcal{I}$\n",
    "\n",
    "For the first constraint, we have for $i \\leq k$:\n",
    "\n",
    "$$\n",
    "\\pi_{0}^{k} - \\sum_{i=1}^{k} \\left(r_{i} - \\pi_{0}^{k}\\right) e^{\\mu_{i}} \\geq r_{0}\n",
    "$$\n",
    "\n",
    "$$\n",
    "\\iff\n",
    "$$\n",
    "\n",
    "$$\n",
    "\\pi_{0}^{k} - \\sum_{i=1}^{k} r_{i} e^{\\mu_{i}} + \\pi_{0}^{k} \\sum_{i=1}^{k} e^{\\mu_{i}} \\geq r_{0}\n",
    "$$\n",
    "\n",
    "$$\n",
    "\\iff\n",
    "$$\n",
    "\n",
    "$$\n",
    "\\pi_{0}^{k} \\left(1 + \\sum_{i=1}^{k} e^{\\mu_{i}}\\right) - \\sum_{i=1}^{k} r_{i} e^{\\mu_{i}} \\geq r_{0}\n",
    "$$\n",
    "\n",
    "$$\n",
    "\\iff\n",
    "$$\n",
    "\n",
    "$$\n",
    "\\left(\\frac{r_{0} + \\sum_{j=1}^{k} e^{\\mu_{j}} r_{j}}{1 + \\sum_{j=1}^{k} e^{\\mu_{j}}}\\right) \\left(1 + \\sum_{i=1}^{k} e^{\\mu_{i}}\\right) - \\sum_{i=1}^{k} r_{i} e^{\\mu_{i}} \\geq r_{0}\n",
    "$$\n",
    "\n",
    "$$\n",
    "\\iff\n",
    "$$\n",
    "\n",
    "$$\n",
    "r_{0} + \\sum_{j=1}^{k} e^{\\mu_{j}} r_{j} - \\sum_{i=1}^{k} r_{i} e^{\\mu_{i}} \\geq r_{0}\n",
    "$$\n",
    "\n",
    "This is always true as the terms cancel out. For $i > k$, we have:\n",
    "\n",
    "$$\n",
    "\\pi_{0}^{k} \\geq r_{0}\n",
    "$$\n",
    "\n",
    "$$\n",
    "\\iff\n",
    "$$\n",
    "\n",
    "$$\n",
    "\\frac{r_{0} + \\sum_{j=1}^{k} e^{\\mu_{j}} r_{j}}{1 + \\sum_{j=1}^{k} e^{\\mu_{j}}} \\geq r_{0}\n",
    "$$\n",
    "\n",
    "$$\n",
    "\\iff\n",
    "$$\n",
    "\n",
    "$$\n",
    "r_{0} + \\sum_{j=1}^{k} e^{\\mu_{j}} r_{j} \\geq r_{0} \\left(1 + \\sum_{j=1}^{k} e^{\\mu_{j}}\\right)\n",
    "$$\n",
    "\n",
    "$$\n",
    "\\iff\n",
    "$$\n",
    "\n",
    "$$\n",
    "r_{0} + \\sum_{j=1}^{k} e^{\\mu_{j}} r_{j} \\geq r_{0} + r_{0} \\sum_{j=1}^{k} e^{\\mu_{j}}\n",
    "$$\n",
    "\n",
    "$$\n",
    "\\iff\n",
    "$$\n",
    "\n",
    "$$\n",
    "\\sum_{j=1}^{k} e^{\\mu_{j}} r_{j} \\geq r_{0} \\sum_{j=1}^{k} e^{\\mu_{j}}\n",
    "$$\n",
    "\n",
    "$$\n",
    "\\iff\n",
    "$$\n",
    "\n",
    "$$\n",
    "\\sum_{j=1}^{k} e^{\\mu_{j}} (r_{j} - r_{0}) \\geq 0\n",
    "$$\n",
    "\n",
    "Since $r_{j} > r_{0}$ for all $j \\in \\mathcal{I}$, this inequality is always satisfied.\n",
    "\n",
    "For the second constraint, for $i \\leq k$, we have:\n",
    "\n",
    "$$\n",
    "\\pi_{0}^{k} + \\pi_{i}^{k} \\geq r_{i}\n",
    "$$\n",
    "\n",
    "$$\n",
    "\\iff\n",
    "$$\n",
    "\n",
    "$$\n",
    "\\pi_{0}^{k} + \\left(r_{i} - \\pi_{0}^{k}\\right) \\geq r_{i}\n",
    "$$\n",
    "\n",
    "$$\n",
    "\\iff\n",
    "$$\n",
    "\n",
    "$$\n",
    "r_{i} \\geq r_{i}\n",
    "$$\n",
    "\n",
    "\n",
    "\n",
    "This is always true.\n",
    "\n",
    "For $i > k$:\n",
    "\n",
    "$$\n",
    "\\pi_{0}^{k} \\geq r_{i}\n",
    "$$\n",
    "\n",
    "$$\n",
    "\\iff\n",
    "$$\n",
    "\n",
    "$$\n",
    "\\frac{r_{0} + \\sum_{j=1}^{k} e^{\\mu_{j}} r_{j}}{1 + \\sum_{j=1}^{k} e^{\\mu_{j}}} \\geq r_{i}\n",
    "$$\n",
    "\n",
    "$$\n",
    "\\iff\n",
    "$$\n",
    "\n",
    "$$\n",
    "r_{0} + \\sum_{j=1}^{k} e^{\\mu_{j}} r_{j} \\geq r_{i} \\left(1 + \\sum_{j=1}^{k} e^{\\mu_{j}}\\right)\n",
    "$$\n",
    "\n",
    "$$\n",
    "\\iff\n",
    "$$\n",
    "\n",
    "$$\n",
    "r_{0} + \\sum_{j=1}^{k} e^{\\mu_{j}} r_{j} - r_{i} \\sum_{j=1}^{k} e^{\\mu_{j}} \\geq r_{i}\n",
    "$$\n",
    "\n",
    "$$\n",
    "\\iff\n",
    "$$\n",
    "\n",
    "$$\n",
    "r_{0} + \\sum_{j=1}^{k} e^{\\mu_{j}} (r_{j} - r_{i}) \\geq r_{i}\n",
    "$$\n",
    "\n",
    "Since $r_{j} > r_{i}$ for all $j \\leq k$, each term $(r_{j} - r_{i})$ is positive. Thus, $\\sum_{j=1}^{k} e^{\\mu_{j}} (r_{j} - r_{i})$ is positive or zero, making the left-hand side of the inequality greater than or equal to $r_{i}$.\n",
    "\n",
    "This implies that there exists a $k$ such that $\\pi_{0}^{k} \\geq r_{i}$ for all $i > k$, ensuring that $\\left(\\pi^{k}, \\pi_{0}^{k}\\right)$ is feasible for AP-LD for such $k$."
   ]
  },
  {
   "cell_type": "markdown",
   "metadata": {
    "jp-MarkdownHeadingCollapsed": true
   },
   "source": [
    "##### 2.2.2 Given $k \\in \\mathcal{I}$, if $\\left(\\pi^{k}, \\pi_{0}^{k}\\right)$ is feasible for AP-LD, prove that $\\mathcal{S}:=\\{1, \\cdots, k\\}$ is optimal for AP. Is AP-L an ideal formulation for AP ?"
   ]
  },
  {
   "cell_type": "markdown",
   "metadata": {},
   "source": [
    "In 2.1.1 and 2.2.1, we computed the objective value for (AP-L) and (AP-LD) respectively, and they have the same objective value for $k$:\n",
    "\n",
    "$$\n",
    "\\frac{r_{0} + \\sum_{i=1}^{k} r_{i} e^{\\mu_{i}}}{1+\\sum_{j=1}^{k} e^{\\mu_{j}}}\n",
    "$$\n",
    "\n",
    "And we proved that $\\left(\\pi^{k}, \\pi_{0}^{k}\\right)$ is feasible for AP-LD, it means that the dual problem (AP-LD) has an optimal solution with the objective value. Since the primal problem (AP-L) and the dual problem (AP-LD) have the same objective value, we can conclude that $\\mathcal{S} := \\{1, \\cdots, k\\}$ is optimal for AP.\n",
    "\n",
    "Since we found that $\\mathcal{S} := \\{1, \\cdots, k\\}$ is optimal for AP and it has the same objective value for (AP) and (AP-L), then we know that (AP-L) is an ideal formulation for AP."
   ]
  },
  {
   "cell_type": "markdown",
   "metadata": {
    "jp-MarkdownHeadingCollapsed": true
   },
   "source": [
    "##### 2.2.3 Propose a polynomial time algorithm that solves AP. What is its worst-time complexity?"
   ]
  },
  {
   "cell_type": "markdown",
   "metadata": {},
   "source": [
    "Given that the items are already sorted by decreasing revenue, we can use the following greedy algorithm:\n",
    "\n",
    "1. Initialize an empty set $\\mathcal{S}$ and set $k = 0$.\n",
    "2. For each product $i \\in \\mathcal{I}$:\n",
    "   - Compute the objective value if product $i$ is added to $\\mathcal{S}$:\n",
    "     $$\n",
    "     \\text{new value} = \\frac{r_{0} + \\sum_{j \\in \\mathcal{S} \\cup \\{i\\}} r_{j} e^{\\mu_{j}}}{1 + \\sum_{j \\in \\mathcal{S} \\cup \\{i\\}} e^{\\mu_{j}}}\n",
    "     $$\n",
    "   - Compute the objective value without adding product $i$:\n",
    "     $$\n",
    "     \\text{current value} = \\frac{r_{0} + \\sum_{j \\in \\mathcal{S}} r_{j} e^{\\mu_{j}}}{1 + \\sum_{j \\in \\mathcal{S}} e^{\\mu_{j}}}\n",
    "     $$\n",
    "   - If $\\text{new value} > \\text{current value}$, add product $i$ to $\\mathcal{S}$ and increment $k$ by 1.\n",
    "3. The set $\\mathcal{S}$ is the optimal assortment.\n",
    "\n",
    "Since the items are already sorted by decreasing revenue, no sorting is needed. For each product, computing the new objective value involves summing up to $k$ elements, which takes $O(k)$ time. In the worst case, $k = n$, so each iteration takes $O(n)$ time. With $n$ iterations, the total time complexity is $O(n^2)$.\n"
   ]
  },
  {
   "cell_type": "markdown",
   "metadata": {},
   "source": [
    "### 3. A more practical model"
   ]
  },
  {
   "cell_type": "markdown",
   "metadata": {},
   "source": [
    "We now suppose that the retailer can only offer up to $p$ products to its customers."
   ]
  },
  {
   "cell_type": "markdown",
   "metadata": {
    "jp-MarkdownHeadingCollapsed": true
   },
   "source": [
    "#### 3.1 Starting from the AP-L formulation, explain why the new model admits the following Mixed Integer Linear Program formulation (variables, constraints, objective function):\n",
    "\n",
    "$$\n",
    "\\begin{aligned}\n",
    "\\max _{y, y_{0} \\geqslant 0, z \\in\\{0,1\\}^{n}} & r_{0} y_{0}+\\sum_{i=1}^{n} r_{i} y_{i} \\\\\n",
    "\\text { s.t. } \\quad & y_{0}+\\sum_{i=1}^{n} y_{i}=1 \\\\\n",
    "& y_{i} \\leqslant y_{0} e^{\\mu_{i}}, \\\\\n",
    "& y \\leqslant z, \\quad \\sum_{i=1}^{n} z_{i} \\leqslant p\n",
    "\\end{aligned} \\quad \\forall i \\in \\mathcal{I}\n",
    "$$"
   ]
  },
  {
   "cell_type": "markdown",
   "metadata": {},
   "source": [
    "ANSWER"
   ]
  },
  {
   "cell_type": "markdown",
   "metadata": {
    "jp-MarkdownHeadingCollapsed": true
   },
   "source": [
    "#### 3.2 Is the previous algorithm still working for the APC-MILP problem? Implement APC-MILP with one of the allowed solvers, and compare the results for $p \\in\\{1, n / 5, n / 2, n\\}$.\n"
   ]
  },
  {
   "cell_type": "markdown",
   "metadata": {},
   "source": [
    "ANSWER"
   ]
  },
  {
   "cell_type": "markdown",
   "metadata": {},
   "source": [
    "#### 3.3 We now propose to use a Lagrangean Relaxation framework to (approximately) solve the practical model. Coming back to AP-IP, it is easy to cast yet another version of the practical model:\n",
    "\n",
    "\n",
    "$$\n",
    "\\begin{aligned}\n",
    "\\text { (APC-IP) } \\max _{x \\in\\{0,1\\}^{n}} & \\frac{r_{0}+\\sum_{i=1}^{n} x_{i} r_{i} e^{\\mu_{i}}}{1+\\sum_{i=1}^{n} x_{i} e^{\\mu_{i}}} \\\\\n",
    "\\text { s.t. } & \\sum_{i=1}^{n} x_{i} \\leqslant p,\n",
    "\\end{aligned}\n",
    "$$\n",
    "\n",
    "#### on which we will apply a Lagrangian algorithm."
   ]
  },
  {
   "cell_type": "markdown",
   "metadata": {
    "jp-MarkdownHeadingCollapsed": true
   },
   "source": [
    "##### 3.3.1 Pricing: after noticing that the constraint $\\sum_{i=1}^{n} x_{i} \\leqslant p$ is equivalent to\n",
    "\n",
    "$$\n",
    "\\frac{\\sum_{i=1}^{n} x_{i}}{1+\\sum_{i=1}^{n} x_{i} e^{\\mu_{i}}} \\leqslant \\frac{p}{1+\\sum_{i=1}^{n} x_{i} e^{\\mu_{i}}}\n",
    "$$\n",
    "\n",
    "##### prove that the pricing problem with a penalization $\\lambda \\geqslant 0$ can be recast as:\n",
    "\n",
    "$$\n",
    "\\begin{array}{rlr}\n",
    "(\\operatorname{AP}-\\mathrm{L})(\\lambda) \\quad \\omega(\\lambda):=\\max _{y, y_{0} \\geqslant 0} & r_{0}(\\lambda) y_{0}+\\sum_{i=1}^{n} r_{i}(\\lambda) y_{i} & \\\\\n",
    "\\text { s.t. } & y_{0}+\\sum_{i=1}^{n} y_{i}=1 \\\\\n",
    "& y_{i} \\leqslant y_{0} e^{\\mu_{i}} & \\forall i \\in \\mathcal{I}\n",
    "\\end{array}\n",
    "$$\n",
    "\n",
    "##### Specify the values of $r_{0}(\\lambda)$ and $r_{i}(\\lambda)$ in function of $r_{0}, \\lambda, p$, the revenues $r_{j}$ and the utilities $\\mu_{j}$."
   ]
  },
  {
   "cell_type": "markdown",
   "metadata": {},
   "source": [
    "ANSWER"
   ]
  },
  {
   "cell_type": "markdown",
   "metadata": {
    "jp-MarkdownHeadingCollapsed": true
   },
   "source": [
    "##### 3.3.2 Recall that we want to find the best dual bound, i.e. solve the following univariate problem:\n",
    "\n",
    "$$\n",
    "\\min _{\\lambda \\geqslant 0} \\omega(\\lambda)\n",
    "$$\n",
    "\n",
    "##### and that the function $\\lambda \\rightarrow \\omega(\\lambda)$ is convex and piecewise linear. Design a binary search to find the optimal $\\lambda^{*}$. Hint: there is an optimal $\\lambda^{*}$ that is no greater than $\\max \\left\\{0, \\frac{r_{1}-r_{0}}{p}\\right\\}$ (why?)."
   ]
  },
  {
   "cell_type": "markdown",
   "metadata": {},
   "source": [
    "ANSWER"
   ]
  },
  {
   "cell_type": "markdown",
   "metadata": {
    "jp-MarkdownHeadingCollapsed": true
   },
   "source": [
    "##### 3.3.2 Heuristic: whenever some $\\lambda$ provides a feasible solution for our practical problem, we compare it with the best solution so far and keep the best one."
   ]
  },
  {
   "cell_type": "markdown",
   "metadata": {},
   "source": [
    "ANSWER"
   ]
  },
  {
   "cell_type": "markdown",
   "metadata": {
    "jp-MarkdownHeadingCollapsed": true
   },
   "source": [
    "##### 3.3.3 Implement the Lagrangean algorithm and plot a graph of the best bounds obtained so far (primal and dual). Granted that $r_{1}>r_{0}$, prove that solving the lagrangean dual at $\\epsilon$ precision requires the solution of a number of assortment planning problems in\n",
    "\n",
    "$$\n",
    "O\\left(\\log _{2}\\left(\\frac{r_{1}-r_{0}}{p \\epsilon}\\right)\\right)\n",
    "$$"
   ]
  },
  {
   "cell_type": "markdown",
   "metadata": {},
   "source": [
    "ANSWER"
   ]
  },
  {
   "cell_type": "markdown",
   "metadata": {},
   "source": [
    "### 4. Implementation and evaluation of models and algorithms"
   ]
  },
  {
   "cell_type": "markdown",
   "metadata": {},
   "source": [
    "Test the proposed models, as well as the algorithms proposed by you on different instance sizes on the $m=100$ instances provided. The size of the instances is defined by the number of products:\n",
    "\n",
    "- small: $n=10$ products\n",
    "- medium: $n=5.000$ products\n",
    "\n",
    "Each set of instances consists of 2 .csv files:\n",
    "\n",
    "- size-mu.csv: A $(n+1) \\times m$ matrix with $\\mu_{i}$ values\n",
    "- size-r.csv: A $(n+1) \\times m$ matrix with $r_{i}$ values\n",
    "\n",
    "You are also asked to test your models with a large instance of $n=1.000 .000$ products, which you should generate following the same structure as the data you were given. Assume:\n",
    "\n",
    "$$\n",
    "\\mu_{0}=0 \\quad r_{0}=0 \\quad \\mu_{i} \\sim U[0,1] \\quad r_{i} \\sim U[0,1]\n",
    "$$\n",
    "\n",
    "When generating this instance you should either save the values in a .csv file like the one we give you, or set the random number generator seed so as not to produce different instances each time you run your code. For each instance size and each model/algorithm, report the minimum, average and maximum optimal values, as well as the minimum, maximum and average solution times."
   ]
  },
  {
   "cell_type": "markdown",
   "metadata": {},
   "source": [
    "### 5. Conclusion"
   ]
  },
  {
   "cell_type": "markdown",
   "metadata": {},
   "source": [
    "TODO"
   ]
  }
 ],
 "metadata": {
  "kernelspec": {
   "display_name": "Python 3 (ipykernel)",
   "language": "python",
   "name": "python3"
  },
  "language_info": {
   "codemirror_mode": {
    "name": "ipython",
    "version": 3
   },
   "file_extension": ".py",
   "mimetype": "text/x-python",
   "name": "python",
   "nbconvert_exporter": "python",
   "pygments_lexer": "ipython3",
   "version": "3.11.9"
  }
 },
 "nbformat": 4,
 "nbformat_minor": 4
}
