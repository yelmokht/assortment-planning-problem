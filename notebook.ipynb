{
 "cells": [
  {
   "cell_type": "markdown",
   "metadata": {},
   "source": [
    "# INFO-F-424 - Combinatorial optimization - 2023-2024"
   ]
  },
  {
   "cell_type": "markdown",
   "metadata": {},
   "source": [
    "### Arfani Salah-Eddine - salah-eddine.arfani@ulb.be - 000495528\n",
    "\n",
    "### El Mokhtari Younes - younes.el.mokhtari@ulb.be - 000479836\n",
    "\n",
    "### Jeq Ismail - ismail.jeq@ulb.be - 000494718"
   ]
  },
  {
   "cell_type": "markdown",
   "metadata": {},
   "source": [
    "## Assortment Planning Problem (AP)"
   ]
  },
  {
   "cell_type": "markdown",
   "metadata": {},
   "source": [
    "### 0. Introduction"
   ]
  },
  {
   "cell_type": "markdown",
   "metadata": {},
   "source": [
    "In this project, we focus on the Assortment Planning Problem (AP), where a retailer wants to determine which products it has to propose to its customers in order to maximize its expected revenue. More precisely, consider a set of products $\\mathcal{I}=\\{1, \\ldots, n\\}$ that the retailer can propose to its customers, and selling product $i$ generates a net revenue of $r_{i}>0$ for him. We assume that the products are sorted in decreasing order of revenue, i.e. $r_{1}>r_{2}>\\cdots>r_{n}>0$, and that each product $i$ will be purchased according to a particular probability that depends on:\n",
    "\n",
    "- The mean utilities $\\left(\\mu_{j}\\right)_{j \\in \\mathcal{I}}$ for the customers when they buy product $j \\in \\mathcal{I}$,\n",
    "\n",
    "- The set of alternatives $\\mathcal{S}$ made available to the customers.\n",
    "\n",
    "These probabilities come from a discrete choice model called multinomial logit, and can be written as follows:\n",
    "\n",
    "$$\n",
    "P_{i}(\\mathcal{S})=\\frac{e^{\\mu_{i}}}{e^{\\mu_{0}}+\\sum_{j \\in \\mathcal{S}} e^{\\mu_{j}}}=\\frac{e^{\\mu_{i}}}{1+\\sum_{j \\in \\mathcal{S}} e^{\\mu_{j}}}, \\quad \\forall i \\in \\mathcal{I} \\cup\\{0\\}\n",
    "$$\n",
    "\n",
    "where $\\mu_{0}=0$ represents the utility - for the customers - of buying nothing. As we will see later on, it is convenient to assume that selling nothing does come with a revenue $r_{0} \\geqslant 0$ (that is, however, usually zero). With all of the above, the problem can be posed as the following combinatorial optimization problem:\n",
    "\n",
    "$$\n",
    "\\text { (AP) } \\max _{\\mathcal{S} \\subseteq \\mathcal{I}}\\left\\{r_{0} \\cdot P_{0}(\\mathcal{S})+\\sum_{i \\in \\mathcal{S}} r_{i} \\cdot P_{i}(\\mathcal{S})\\right\\}\n",
    "$$"
   ]
  },
  {
   "cell_type": "markdown",
   "metadata": {},
   "source": [
    "### 1. From combinatorial optimization to linear programming"
   ]
  },
  {
   "cell_type": "markdown",
   "metadata": {},
   "source": [
    "#### 1.1 Show that AP can be rewritten as the following integer programming problem:\n",
    "\n",
    "$$\n",
    "\\text { (AP-IP) } \\max _{x \\in\\{0,1\\}^{n}} \\frac{r_{0}+\\sum_{i=1}^{n} x_{i} r_{i} e^{\\mu_{i}}}{1+\\sum_{i=1}^{n} x_{i} e^{\\mu_{i}}}\n",
    "$$"
   ]
  },
  {
   "cell_type": "markdown",
   "metadata": {},
   "source": [
    "Explain why this formulation is valid for the Assortment Planning Problem (variables, constraints, objective function), and why this formulation is nonlinear."
   ]
  },
  {
   "cell_type": "markdown",
   "metadata": {},
   "source": [
    "#### 1.2 Considering the following change of variables:\n",
    "\n",
    "\n",
    "$$\n",
    "\\begin{aligned}\n",
    "y_{0} & :=\\frac{1}{1+\\sum_{j=1}^{n} x_{j} e^{\\mu_{j}}} \\\\\n",
    "y_{i} & :=\\frac{x_{i} e^{\\mu_{i}}}{1+\\sum_{j=1}^{n} x_{j} e^{\\mu_{j}}}, \\quad \\forall i \\in \\mathcal{I}\n",
    "\\end{aligned}\n",
    "$$\n",
    "\n",
    "prove that AP-IP can be rewritten as the following problem:\n",
    "\n",
    "$$\n",
    "\\begin{aligned}\n",
    "\\text { (AP-IPL) } \\max _{y, y_{0} \\geqslant 0} & r_{0} y_{0}+\\sum_{i=1}^{n} r_{i} y_{i} \\\\\n",
    "\\text { s.t. } & y_{0}+\\sum_{i=1}^{n} y_{i}=1 \\\\\n",
    "& y_{i} \\in\\left\\{0, y_{0} e^{\\mu_{i}}\\right\\},\n",
    "\\end{aligned} \\quad \\forall i \\in \\mathcal{I}\n",
    "$$\n",
    "\n",
    "where $y_{i} \\in\\left\\{0, y_{0} e^{\\mu_{i}}\\right\\}$ means that $y_{i}$ must take either 0 or $y_{0} e^{\\mu_{i}}$ as a value."
   ]
  },
  {
   "cell_type": "markdown",
   "metadata": {},
   "source": [
    "TODO"
   ]
  },
  {
   "cell_type": "markdown",
   "metadata": {},
   "source": [
    "#### 1.3 Consider the continuous relaxation of AP-IPL:\n",
    "\n",
    "\n",
    "$$\n",
    "\\begin{array}{rlr}\n",
    "\\text { (AP-L) } \\max _{y, y_{0} \\geqslant 0} & r_{0} y_{0}+\\sum_{i=1}^{n} r_{i} y_{i} & \\\\\n",
    "\\text { s.t. } & y_{0}+\\sum_{i=1}^{n} y_{i}=1 \\\\\n",
    "& y_{i} \\leqslant y_{0} e^{\\mu_{i}} & \\forall i \\in \\mathcal{I}\n",
    "\\end{array}\n",
    "$$\n",
    "\n",
    "Prove that its linear programming dual is:\n",
    "\n",
    "$$\n",
    "\\begin{aligned}\n",
    "& \\text { (AP-LD) } \\min _{\\pi \\geqslant 0, \\pi_{0} \\in \\mathbb{R}} \\pi_{0} \\\\\n",
    "& \\text { s.t. } \\quad \\pi_{0}-\\sum_{i=1}^{n} \\pi_{i} e^{\\mu_{i}} \\geqslant r_{0} \\\\\n",
    "& \\pi_{0}+\\pi_{i} \\geqslant r_{i}, \\quad \\forall i \\in \\mathcal{I}\n",
    "\\end{aligned}\n",
    "$$\n",
    "\n",
    "and explain the relationships between dual (resp. primal) variables and primal (resp. dual) constraints."
   ]
  },
  {
   "cell_type": "markdown",
   "metadata": {},
   "source": [
    "TODO"
   ]
  },
  {
   "cell_type": "markdown",
   "metadata": {},
   "source": [
    "### 2. Ideal formulation and a greedy algorithm"
   ]
  },
  {
   "cell_type": "markdown",
   "metadata": {},
   "source": [
    "We now show that, with the help of AP-L, we can solve AP in polynomial time."
   ]
  },
  {
   "cell_type": "markdown",
   "metadata": {},
   "source": [
    "#### 2.1 For any $k \\in \\mathcal{I}$, consider the following solution:\n",
    "\n",
    "\n",
    "$$\n",
    "\\begin{aligned}\n",
    "y_{0}^{k} & :=\\frac{1}{1+\\sum_{j=1}^{k} e^{\\mu_{j}}} \\\\\n",
    "y_{i}^{k} & :=\\left\\{\\begin{array}{ll}\n",
    "\\frac{e^{\\mu_{i}}}{1+\\sum_{j=1}^{k} e^{\\mu_{j}}} & \\text { if } i \\leqslant k \\\\\n",
    "0 & \\text { otherwise. }\n",
    "\\end{array} \\quad \\forall i \\in \\mathcal{I} .\\right.\n",
    "\\end{aligned}\n",
    "$$"
   ]
  },
  {
   "cell_type": "markdown",
   "metadata": {},
   "source": [
    "\n",
    "(a) Show that $\\left(y^{k}, y_{0}^{k}\\right)$ is feasible for AP-L. What is its objective value?\n"
   ]
  },
  {
   "cell_type": "markdown",
   "metadata": {},
   "source": [
    "(b) Using the change of variables in (1.2), prove that the associated $x^{k}$ is integer."
   ]
  },
  {
   "cell_type": "markdown",
   "metadata": {},
   "source": [
    "(c) Show that $\\left(y^{k}, y_{0}^{k}\\right)$ is a strictly better solution than $\\left(y^{k-1}, y_{0}^{k-1}\\right)$ if and only if:\n",
    "\n",
    "$$\n",
    "r_{k}>\\frac{r_{0}+\\sum_{j=1}^{k-1} e^{\\mu_{j}} r_{j}}{1+\\sum_{j=1}^{k-1} e^{\\mu_{j}}}\n",
    "$$"
   ]
  },
  {
   "cell_type": "markdown",
   "metadata": {},
   "source": [
    "(d) Prove that there is no $k \\in \\mathcal{I}$ such that\n",
    "\n",
    "$$\n",
    "r_{k} \\leqslant \\frac{r_{0}+\\sum_{j=1}^{k-1} e^{\\mu_{j}} r_{j}}{1+\\sum_{j=1}^{k-1} e^{\\mu_{j}}} \\quad \\text { and } \\quad r_{k+1}>\\frac{r_{0}+\\sum_{j=1}^{k} e^{\\mu_{j}} r_{j}}{1+\\sum_{j=1}^{k} e^{\\mu_{j}}}\n",
    "$$\n",
    "\n",
    "at the same time. What does the graph of the function $k \\rightarrow r^{\\top} y^{k}$ look like?"
   ]
  },
  {
   "cell_type": "markdown",
   "metadata": {},
   "source": [
    "\n",
    "(e) Deduce that there is exactly one $k^{*} \\in \\mathcal{I}$ such that\n",
    "\n",
    "$$\n",
    "r_{1}>\\cdots>r_{k^{*}}>\\frac{r_{0}+\\sum_{j=1}^{k^{*}-1} e^{\\mu_{j}} r_{j}}{1+\\sum_{j=1}^{k^{*}-1} e^{\\mu_{j}}} \\quad \\text { and } \\quad \\frac{r_{0}+\\sum_{j=1}^{k^{*}} e^{\\mu_{j}} r_{j}}{1+\\sum_{j=1}^{k^{*}} e^{\\mu_{j}}} \\geqslant r_{k^{*}+1}>\\cdots>r_{n}\n",
    "$$"
   ]
  },
  {
   "cell_type": "markdown",
   "metadata": {},
   "source": [
    "(f) Show that we cannot have $r_{k^{*}}<\\frac{r_{0}+\\sum_{j=1}^{k^{*}} e^{\\mu_{j}} r_{j}}{1+\\sum_{j=1}^{k *} e^{\\mu_{j}}}$, and deduce that we have\n",
    "\n",
    "$$\n",
    "r_{1}>\\cdots>r_{k^{*}} \\geqslant \\frac{r_{0}+\\sum_{j=1}^{k^{*}} e^{\\mu_{j}} r_{j}}{1+\\sum_{j=1}^{k^{*}} e^{\\mu_{j}}} \\geqslant r_{k^{*}+1}>\\cdots>r_{n}\n",
    "$$"
   ]
  },
  {
   "cell_type": "markdown",
   "metadata": {},
   "source": [
    "#### 2.2 For any $k \\in \\mathcal{I}$, consider the following solution:"
   ]
  },
  {
   "cell_type": "markdown",
   "metadata": {},
   "source": [
    "\n",
    "\n",
    "$$\n",
    "\\begin{aligned}\n",
    "\\pi_{0}^{k} & :=\\frac{r_{0}+\\sum_{j=1}^{k} e^{\\mu_{j}} r_{j}}{1+\\sum_{j=1}^{k} e^{\\mu_{j}}} \\\\\n",
    "\\pi_{i}^{k} & :=\\left\\{\\begin{array}{ll}\n",
    "r_{i}-\\frac{r_{0}+\\sum_{j=1}^{k} e^{\\mu_{j}} r_{j}}{1+\\sum_{j=1}^{k} e^{\\mu_{j}}} & \\text { if } i \\leqslant k \\\\\n",
    "0 & \\text { otherwise. }\n",
    "\\end{array}, \\quad \\forall i \\in \\mathcal{I} .\\right.\n",
    "\\end{aligned}\n",
    "$$\n",
    "\n",
    "(a) What is its objective value? In which conditions is $\\left(\\pi^{k}, \\pi_{0}^{k}\\right)$ feasible for AP-LD? Is there such a $k$ ?"
   ]
  },
  {
   "cell_type": "markdown",
   "metadata": {},
   "source": [
    "(b) Given $k \\in \\mathcal{I}$, if $\\left(\\pi^{k}, \\pi_{0}^{k}\\right)$ is feasible for AP-LD, prove that $\\mathcal{S}:=\\{1, \\cdots, k\\}$ is optimal for AP. Is AP-L an ideal formulation for AP?"
   ]
  },
  {
   "cell_type": "markdown",
   "metadata": {},
   "source": [
    "(c) Propose a polynomial time algorithm that solves AP. What is its worst-time complexity?"
   ]
  },
  {
   "cell_type": "markdown",
   "metadata": {},
   "source": [
    "### 3. A more practical model"
   ]
  },
  {
   "cell_type": "markdown",
   "metadata": {},
   "source": [
    "We now suppose that the retailer can only offer up to $p$ products to its customers."
   ]
  },
  {
   "cell_type": "markdown",
   "metadata": {},
   "source": [
    "\n",
    "#### 3.1 Starting from the AP-L formulation, explain why the new model admits the following Mixed Integer Linear Program formulation (variables, constraints, objective function):\n",
    "\n",
    "$$\n",
    "\\begin{aligned}\n",
    "\\max _{y, y_{0} \\geqslant 0, z \\in\\{0,1\\}^{n}} & r_{0} y_{0}+\\sum_{i=1}^{n} r_{i} y_{i} \\\\\n",
    "\\text { s.t. } \\quad & y_{0}+\\sum_{i=1}^{n} y_{i}=1 \\\\\n",
    "& y_{i} \\leqslant y_{0} e^{\\mu_{i}}, \\\\\n",
    "& y \\leqslant z, \\quad \\sum_{i=1}^{n} z_{i} \\leqslant p\n",
    "\\end{aligned} \\quad \\forall i \\in \\mathcal{I}\n",
    "$$\n"
   ]
  },
  {
   "cell_type": "markdown",
   "metadata": {},
   "source": [
    "\n",
    "#### 3.2 Is the previous algorithm still working for the APC-MILP problem? Implement APC-MILP with one of the allowed solvers, and compare the results for $p \\in\\{1, n / 5, n / 2, n\\}$.\n"
   ]
  },
  {
   "cell_type": "markdown",
   "metadata": {},
   "source": [
    "\n",
    "#### 3.3 We now propose to use a Lagrangean Relaxation framework to (approximately) solve the practical model. Coming back to AP-IP, it is easy to cast yet another version of the practical model:\n",
    "\n",
    "\n",
    "$$\n",
    "\\begin{aligned}\n",
    "\\text { (APC-IP) } \\max _{x \\in\\{0,1\\}^{n}} & \\frac{r_{0}+\\sum_{i=1}^{n} x_{i} r_{i} e^{\\mu_{i}}}{1+\\sum_{i=1}^{n} x_{i} e^{\\mu_{i}}} \\\\\n",
    "\\text { s.t. } & \\sum_{i=1}^{n} x_{i} \\leqslant p,\n",
    "\\end{aligned}\n",
    "$$\n",
    "\n",
    "on which we will apply a Lagrangian algorithm.\\\\"
   ]
  },
  {
   "cell_type": "markdown",
   "metadata": {},
   "source": [
    "\n",
    "(a) Pricing: after noticing that the constraint $\\sum_{i=1}^{n} x_{i} \\leqslant p$ is equivalent to\n",
    "\n",
    "$$\n",
    "\\frac{\\sum_{i=1}^{n} x_{i}}{1+\\sum_{i=1}^{n} x_{i} e^{\\mu_{i}}} \\leqslant \\frac{p}{1+\\sum_{i=1}^{n} x_{i} e^{\\mu_{i}}}\n",
    "$$\n",
    "\n",
    "prove that the pricing problem with a penalization $\\lambda \\geqslant 0$ can be recast as:\n",
    "\n",
    "$$\n",
    "\\begin{array}{rlr}\n",
    "(\\operatorname{AP}-\\mathrm{L})(\\lambda) \\quad \\omega(\\lambda):=\\max _{y, y_{0} \\geqslant 0} & r_{0}(\\lambda) y_{0}+\\sum_{i=1}^{n} r_{i}(\\lambda) y_{i} & \\\\\n",
    "\\text { s.t. } & y_{0}+\\sum_{i=1}^{n} y_{i}=1 \\\\\n",
    "& y_{i} \\leqslant y_{0} e^{\\mu_{i}} & \\forall i \\in \\mathcal{I}\n",
    "\\end{array}\n",
    "$$\n",
    "\n",
    "Specify the values of $r_{0}(\\lambda)$ and $r_{i}(\\lambda)$ in function of $r_{0}, \\lambda, p$, the revenues $r_{j}$ and the utilities $\\mu_{j}$."
   ]
  },
  {
   "cell_type": "markdown",
   "metadata": {},
   "source": [
    "(b) Recall that we want to find the best dual bound, i.e. solve the following univariate problem:\n",
    "\n",
    "$$\n",
    "\\min _{\\lambda \\geqslant 0} \\omega(\\lambda)\n",
    "$$\n",
    "\n",
    "and that the function $\\lambda \\rightarrow \\omega(\\lambda)$ is convex and piecewise linear. Design a binary search to find the optimal $\\lambda^{*}$. Hint: there is an optimal $\\lambda^{*}$ that is no greater than $\\max \\left\\{0, \\frac{r_{1}-r_{0}}{p}\\right\\}$ (why?)."
   ]
  },
  {
   "cell_type": "markdown",
   "metadata": {},
   "source": [
    "(c) Heuristic: whenever some $\\lambda$ provides a feasible solution for our practical problem, we compare it with the best solution so far and keep the best one."
   ]
  },
  {
   "cell_type": "markdown",
   "metadata": {},
   "source": [
    "(d) Implement the Lagrangean algorithm and plot a graph of the best bounds obtained so far (primal and dual). Granted that $r_{1}>r_{0}$, prove that solving the lagrangean dual at $\\epsilon$ precision requires the solution of a number of assortment planning problems in\n",
    "\n",
    "$$\n",
    "O\\left(\\log _{2}\\left(\\frac{r_{1}-r_{0}}{p \\epsilon}\\right)\\right)\n",
    "$$"
   ]
  },
  {
   "cell_type": "markdown",
   "metadata": {},
   "source": [
    "### 4. Implementation and evaluation of models and algorithms"
   ]
  },
  {
   "cell_type": "markdown",
   "metadata": {},
   "source": [
    "Test the proposed models, as well as the algorithms proposed by you on different instance sizes on the $m=100$ instances provided. The size of the instances is defined by the number of products:\n",
    "\n",
    "- small: $n=10$ products\n",
    "- medium: $n=5.000$ products\n",
    "\n",
    "Each set of instances consists of 2 .csv files:\n",
    "\n",
    "- size-mu.csv: A $(n+1) \\times m$ matrix with $\\mu_{i}$ values\n",
    "- size-r.csv: A $(n+1) \\times m$ matrix with $r_{i}$ values\n",
    "\n",
    "You are also asked to test your models with a large instance of $n=1.000 .000$ products, which you should generate following the same structure as the data you were given. Assume:\n",
    "\n",
    "$$\n",
    "\\mu_{0}=0 \\quad r_{0}=0 \\quad \\mu_{i} \\sim U[0,1] \\quad r_{i} \\sim U[0,1]\n",
    "$$\n",
    "\n",
    "When generating this instance you should either save the values in a .csv file like the one we give you, or set the random number generator seed so as not to produce different instances each time you run your code. For each instance size and each model/algorithm, report the minimum, average and maximum optimal values, as well as the minimum, maximum and average solution times."
   ]
  },
  {
   "cell_type": "markdown",
   "metadata": {},
   "source": [
    "### 5. Conclusion"
   ]
  },
  {
   "cell_type": "markdown",
   "metadata": {},
   "source": [
    "TODO"
   ]
  }
 ],
 "metadata": {
  "kernelspec": {
   "display_name": "Python 3",
   "language": "python",
   "name": "python3"
  },
  "language_info": {
   "name": "python",
   "version": "3.11.9"
  }
 },
 "nbformat": 4,
 "nbformat_minor": 2
}
